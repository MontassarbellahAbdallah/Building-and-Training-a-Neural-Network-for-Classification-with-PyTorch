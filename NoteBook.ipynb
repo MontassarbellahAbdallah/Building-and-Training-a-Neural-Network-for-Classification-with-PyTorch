{
 "cells": [
  {
   "cell_type": "raw",
   "id": "71a0337b-e04b-4964-8267-bebde365433d",
   "metadata": {},
   "source": [
    "!pip install matplotlib"
   ]
  },
  {
   "cell_type": "code",
   "execution_count": 12,
   "id": "a9f66d9a-b3e4-4a5b-8802-4644c8d2fc3b",
   "metadata": {},
   "outputs": [
    {
     "name": "stdout",
     "output_type": "stream",
     "text": [
      "Collecting torchsummary\n",
      "  Downloading torchsummary-1.5.1-py3-none-any.whl.metadata (296 bytes)\n",
      "Downloading torchsummary-1.5.1-py3-none-any.whl (2.8 kB)\n",
      "Installing collected packages: torchsummary\n",
      "Successfully installed torchsummary-1.5.1\n"
     ]
    }
   ],
   "source": [
    "!pip install torchsummary"
   ]
  },
  {
   "cell_type": "code",
   "execution_count": 1,
   "id": "c666beeb-216d-4dcc-be95-34f781056dc0",
   "metadata": {},
   "outputs": [],
   "source": [
    "# This cell imports necessary libraries and modules for the project.\n",
    "\n",
    "import torch\n",
    "import matplotlib.pyplot as plt\n",
    "import torch.nn as nn\n",
    "import torch.nn.functional as F\n",
    "from torch.optim import Adam\n",
    "from torch.utils.data import random_split, DataLoader\n",
    "from torchvision.transforms import Compose, ToTensor, Normalize\n",
    "from torchvision.datasets import MNIST\n",
    "from torchsummary import summary"
   ]
  },
  {
   "cell_type": "code",
   "execution_count": 2,
   "id": "0184b776-9eba-4512-90b1-184caa07d063",
   "metadata": {},
   "outputs": [],
   "source": [
    "# This cell defines the function 'prepare_data' to load and preprocess the dataset using PyTorch.\n",
    "# The function returns DataLoaders for training, validation, and testing.\n",
    "\n",
    "def prepare_data(batch_size):\n",
    "    #Transform to normalize the data \n",
    "    transform = Compose([ToTensor(),Normalize((0.5),(0.5))])\n",
    "    #Download and load the training and test datasets\n",
    "    trainset = MNIST(root='MNIST', download=True, train=True, transform=transform)\n",
    "    testset = MNIST(root='MNIST', download=True, train=False, transform=transform)\n",
    "\n",
    "    trainset_size = round(len(trainset)* 0.8)\n",
    "    validset_size = len(trainset) - trainset_size\n",
    "    trainset, validset = random_split(trainset, [trainset_size, validset_size])\n",
    "\n",
    "    train_d1 = DataLoader(trainset, batch_size=batch_size, shuffle=True)\n",
    "    valid_d1 = DataLoader(validset, batch_size=batch_size, shuffle=False)\n",
    "    test_d1 = DataLoader(testset, batch_size=batch_size, shuffle=False)\n",
    "    \n",
    "    return train_d1, valid_d1, test_d1"
   ]
  },
  {
   "cell_type": "markdown",
   "id": "639d69c3-9116-43f9-afbf-ce1593d5819d",
   "metadata": {},
   "source": [
    "Definition d'un model"
   ]
  },
  {
   "cell_type": "code",
   "execution_count": 3,
   "id": "810a2ae3-ef85-4baa-b704-b16c02793913",
   "metadata": {},
   "outputs": [],
   "source": [
    "# This cell defines a neural network architecture (MLP) using PyTorch.\n",
    "# It includes an initialization of layers and the forward pass.\n",
    "\n",
    "class MLP(nn.Module):\n",
    "    def __init__(self, input_dim, N1, N2, output_dim):\n",
    "        super(MLP, self).__init__()\n",
    "        self.f1=nn.Flatten()\n",
    "        self.fc1= nn.Linear(input_dim,N1)\n",
    "        self.fc2= nn.Linear(N1,N2)\n",
    "        self.fc3= nn.Linear(N2,output_dim)\n",
    "        self.relu = nn.ReLU()\n",
    "    def forward(self, x):\n",
    "        x = self.f1(x)\n",
    "        out=self.relu(self.fc1(x))\n",
    "        out=self.relu(self.fc2(out))\n",
    "        out=self.fc3(out)\n",
    "        return out\n",
    "        "
   ]
  },
  {
   "cell_type": "code",
   "execution_count": 4,
   "id": "ecaa0d86-d68a-4c18-95d6-297f98d2906d",
   "metadata": {},
   "outputs": [
    {
     "name": "stdout",
     "output_type": "stream",
     "text": [
      "cuda\n"
     ]
    }
   ],
   "source": [
    "\n",
    "device = torch.device(\"cuda\" if torch.cuda.is_available() else \"cpu\")\n",
    "print(device)"
   ]
  },
  {
   "cell_type": "code",
   "execution_count": 5,
   "id": "1561051d-fcc0-4266-a237-c32da355fa36",
   "metadata": {},
   "outputs": [
    {
     "name": "stdout",
     "output_type": "stream",
     "text": [
      "MLP(\n",
      "  (f1): Flatten(start_dim=1, end_dim=-1)\n",
      "  (fc1): Linear(in_features=784, out_features=250, bias=True)\n",
      "  (fc2): Linear(in_features=250, out_features=128, bias=True)\n",
      "  (fc3): Linear(in_features=128, out_features=10, bias=True)\n",
      "  (relu): ReLU()\n",
      ")\n",
      "----------------------------------------------------------------\n",
      "        Layer (type)               Output Shape         Param #\n",
      "================================================================\n",
      "           Flatten-1                  [-1, 784]               0\n",
      "            Linear-2                  [-1, 250]         196,250\n",
      "              ReLU-3                  [-1, 250]               0\n",
      "            Linear-4                  [-1, 128]          32,128\n",
      "              ReLU-5                  [-1, 128]               0\n",
      "            Linear-6                   [-1, 10]           1,290\n",
      "================================================================\n",
      "Total params: 229,668\n",
      "Trainable params: 229,668\n",
      "Non-trainable params: 0\n",
      "----------------------------------------------------------------\n",
      "Input size (MB): 0.00\n",
      "Forward/backward pass size (MB): 0.01\n",
      "Params size (MB): 0.88\n",
      "Estimated Total Size (MB): 0.89\n",
      "----------------------------------------------------------------\n"
     ]
    }
   ],
   "source": [
    "model1 = MLP(784, 250, 128, 10)\n",
    "print(model1)\n",
    "summary(model1.to(device), input_size=(1, 28, 28))"
   ]
  },
  {
   "cell_type": "code",
   "execution_count": 36,
   "id": "8ca9cb15-d3ce-4eed-888f-b7df64d826e2",
   "metadata": {},
   "outputs": [],
   "source": [
    "# This cell defines functions for training the model and evaluating its performance.\n",
    "# The 'train_modal' function handles the training process over multiple epochs.\n",
    "# The 'evaluation' function computes the model's accuracy on the test dataset.\n",
    "\n",
    "def validation(model,device,valid_dl ,criterion):\n",
    "  model.eval() # sets the module in evaluation mode\n",
    "  loss_total=0\n",
    "  with torch.no_grad():\n",
    "    for batch_idx, data in enumerate(valid_dl):\n",
    "      inputs = data[0].to(device)\n",
    "      targets = data[1].to(device)\n",
    "      output=model(inputs)\n",
    "      loss=criterion(output,targets)\n",
    "      loss_total+=loss.item()\n",
    "  return loss_total/len(valid_dl)"
   ]
  },
  {
   "cell_type": "code",
   "execution_count": 50,
   "id": "4589ac3e-5750-4dd3-ab6f-d696583fd601",
   "metadata": {},
   "outputs": [],
   "source": [
    "# This cell defines functions for training the model and evaluating its performance.\n",
    "# The 'train_modal' function handles the training process over multiple epochs.\n",
    "# The 'evaluation' function computes the model's accuracy on the test dataset.\n",
    "\n",
    "# Taining\n",
    "def train_modal(model, device, epochs, optimizer, criterion, train_dl, valid_dl):\n",
    "  train_loss = 100; patience = 2; triggertimes = 0\n",
    "  train_losses = []  # List to store the loss for each epoch\n",
    "\n",
    "\n",
    "  for epoch in range(1, epochs+1):\n",
    "    model.train() # sets the module in traininng mode\n",
    "\n",
    "    loss_per_epoch = 0.0\n",
    "    for batch_idx, data in enumerate(train_dl):\n",
    "      inputs = data[0].to(device)\n",
    "      targets = data[1].to(device)\n",
    "\n",
    "      # Zero the gradients\n",
    "      optimizer.zero_grad()\n",
    "\n",
    "      # Forward and backward propagation\n",
    "      outputs = model(inputs)\n",
    "      loss = criterion(outputs, targets)\n",
    "      loss.backward()\n",
    "      optimizer.step()\n",
    "\n",
    "      # Show progress\n",
    "      if batch_idx % 100 == 0 or batch_idx == len(train_dl):\n",
    "        print('[{}/{}, {}/{}] loss: {:.8}'.format(epoch, epochs, batch_idx, len(train_dl), loss.item()))\n",
    "        loss_per_epoch += loss.item()\n",
    "    # Calculate the average loss for this epoch and store it\n",
    "    avg_epoch_loss = loss_per_epoch / len(train_dl)\n",
    "    train_losses.append(avg_epoch_loss)\n",
    "    current_loss = validation(model, device, valid_dl, criterion)\n",
    "    if current_loss > train_loss:\n",
    "      triggertimes += 1\n",
    "      print('trigger times', triggertimes)\n",
    "      if triggertimes >= patience:\n",
    "        print('Preform Early stopping!')\n",
    "        return model, train_losses\n",
    "    else:\n",
    "      triggertimes = 0\n",
    "      print('trigger times', triggertimes)\n",
    "      train_loss = current_loss\n",
    "\n",
    "  return model, train_losses\n"
   ]
  },
  {
   "cell_type": "code",
   "execution_count": 48,
   "id": "778845d8-299c-4d15-ba4a-d63c30b68112",
   "metadata": {},
   "outputs": [],
   "source": [
    "# This cell defines functions for training the model and evaluating its performance.\n",
    "# The 'train_modal' function handles the training process over multiple epochs.\n",
    "# The 'evaluation' function computes the model's accuracy on the test dataset.\n",
    "\n",
    "def evaluation(model, device, test_dl):\n",
    "  model.eval()\n",
    "  total=0.0; correct=0.0\n",
    "  with torch.no_grad():\n",
    "    for data in test_dl:\n",
    "      inputs = data[0].to(device)\n",
    "      targets = data[1].to(device)\n",
    "      outputs=model(inputs)\n",
    "      _, predicted = torch.max(outputs.data, 1)\n",
    "      total += targets.size(0)\n",
    "      correct += (predicted == targets).sum().item()\n",
    "    accuracy=correct/total\n",
    "    return accuracy"
   ]
  },
  {
   "cell_type": "code",
   "execution_count": 51,
   "id": "46adf28f-fd99-4cb4-8306-c164aef0c21d",
   "metadata": {},
   "outputs": [
    {
     "name": "stdout",
     "output_type": "stream",
     "text": [
      "MLP(\n",
      "  (f1): Flatten(start_dim=1, end_dim=-1)\n",
      "  (fc1): Linear(in_features=784, out_features=128, bias=True)\n",
      "  (fc2): Linear(in_features=128, out_features=64, bias=True)\n",
      "  (fc3): Linear(in_features=64, out_features=10, bias=True)\n",
      "  (relu): ReLU()\n",
      ")\n",
      "[1/100, 0/750] loss: 2.2906623\n",
      "[1/100, 100/750] loss: 0.50533968\n",
      "[1/100, 200/750] loss: 0.31271839\n",
      "[1/100, 300/750] loss: 0.31118351\n",
      "[1/100, 400/750] loss: 0.22693701\n",
      "[1/100, 500/750] loss: 0.19793862\n",
      "[1/100, 600/750] loss: 0.29810539\n",
      "[1/100, 700/750] loss: 0.15944208\n",
      "trigger times 0\n",
      "[2/100, 0/750] loss: 0.078947991\n",
      "[2/100, 100/750] loss: 0.20772232\n",
      "[2/100, 200/750] loss: 0.22682497\n",
      "[2/100, 300/750] loss: 0.16550545\n",
      "[2/100, 400/750] loss: 0.25685301\n",
      "[2/100, 500/750] loss: 0.061833117\n",
      "[2/100, 600/750] loss: 0.088185899\n",
      "[2/100, 700/750] loss: 0.058373034\n",
      "trigger times 0\n",
      "[3/100, 0/750] loss: 0.17883624\n",
      "[3/100, 100/750] loss: 0.046154\n",
      "[3/100, 200/750] loss: 0.15746674\n",
      "[3/100, 300/750] loss: 0.053503856\n",
      "[3/100, 400/750] loss: 0.09641213\n",
      "[3/100, 500/750] loss: 0.020473287\n",
      "[3/100, 600/750] loss: 0.072767884\n",
      "[3/100, 700/750] loss: 0.25615141\n",
      "trigger times 0\n",
      "[4/100, 0/750] loss: 0.013462617\n",
      "[4/100, 100/750] loss: 0.07636635\n",
      "[4/100, 200/750] loss: 0.050932694\n",
      "[4/100, 300/750] loss: 0.13410653\n",
      "[4/100, 400/750] loss: 0.070625529\n",
      "[4/100, 500/750] loss: 0.19512025\n",
      "[4/100, 600/750] loss: 0.16132393\n",
      "[4/100, 700/750] loss: 0.29307047\n",
      "trigger times 0\n",
      "[5/100, 0/750] loss: 0.19712147\n",
      "[5/100, 100/750] loss: 0.01838615\n",
      "[5/100, 200/750] loss: 0.063229464\n",
      "[5/100, 300/750] loss: 0.075547263\n",
      "[5/100, 400/750] loss: 0.20644\n",
      "[5/100, 500/750] loss: 0.078072853\n",
      "[5/100, 600/750] loss: 0.12424376\n",
      "[5/100, 700/750] loss: 0.0089047737\n",
      "trigger times 1\n",
      "[6/100, 0/750] loss: 0.085280932\n",
      "[6/100, 100/750] loss: 0.07192672\n",
      "[6/100, 200/750] loss: 0.063903011\n",
      "[6/100, 300/750] loss: 0.022378985\n",
      "[6/100, 400/750] loss: 0.094904214\n",
      "[6/100, 500/750] loss: 0.13867803\n",
      "[6/100, 600/750] loss: 0.18958637\n",
      "[6/100, 700/750] loss: 0.096239813\n",
      "trigger times 2\n",
      "Preform Early stopping!\n",
      "accuracy: 0.9633\n"
     ]
    },
    {
     "data": {
      "image/png": "[encoded data removed]",
      "text/plain": [
       "<Figure size 1000x500 with 1 Axes>"
      ]
     },
     "metadata": {},
     "output_type": "display_data"
    }
   ],
   "source": [
    "# This cell defines the function 'prepare_data' to load and preprocess the dataset using PyTorch.\n",
    "# The function returns DataLoaders for training, validation, and testing.\n",
    "\n",
    "def main(epochs = 100, batch_size = 64, lr = 0.002, wd=1.e-4):\n",
    "  device = torch.device(\"cuda\" if torch.cuda.is_available() else \"cpu\")\n",
    "  criterion = nn.CrossEntropyLoss()\n",
    "  model = MLP(784, 128, 64, 10)\n",
    "  model = model.to(device) # Move model before creating optimizer\n",
    "  print(model)\n",
    "  optimizer = Adam(model.parameters(), lr = lr, weight_decay = wd) # with weight decay\n",
    "\n",
    "  # Data preparation\n",
    "  train_dl, valid_dl, test_dl = prepare_data(batch_size)\n",
    "\n",
    "  # Training\n",
    "  model, train_losses = train_modal(model, device, epochs, optimizer, criterion, train_dl, valid_dl)\n",
    "  accuracy=evaluation( model,device,test_dl)\n",
    "  print(\"accuracy:\" ,accuracy)\n",
    "  torch.save(model.state_dict(), 'model.pth')\n",
    "  # Plot the training loss\n",
    "  plt.figure(figsize=(10, 5))\n",
    "  plt.plot(range(1, len(train_losses) + 1), train_losses, marker='o', label='Training Loss')\n",
    "  plt.title('Training Loss over Epochs')\n",
    "  plt.xlabel('Epochs')\n",
    "  plt.ylabel('Loss')\n",
    "  plt.legend()\n",
    "    \n",
    "  plt.show()\n",
    "\n",
    "if __name__ == '__main__':\n",
    "  main()"
   ]
  },
  {
   "cell_type": "code",
   "execution_count": null,
   "id": "b3cb71e8-f634-435d-bb43-e8719aae0007",
   "metadata": {},
   "outputs": [],
   "source": []
  }
 ],
 "metadata": {
  "kernelspec": {
   "display_name": "Python 3 (ipykernel)",
   "language": "python",
   "name": "python3"
  },
  "language_info": {
   "codemirror_mode": {
    "name": "ipython",
    "version": 3
   },
   "file_extension": ".py",
   "mimetype": "text/x-python",
   "name": "python",
   "nbconvert_exporter": "python",
   "pygments_lexer": "ipython3",
   "version": "3.12.5"
  }
 },
 "nbformat": 4,
 "nbformat_minor": 5
}
